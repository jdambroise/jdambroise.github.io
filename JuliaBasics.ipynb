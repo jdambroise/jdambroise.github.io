{
 "cells": [
  {
   "cell_type": "markdown",
   "metadata": {},
   "source": [
    "## Welcome To Julia!\n",
    "\n",
    "Julia is a NEW programming language developed specifically for scientific computations.  Many scientific computing languages already exist such as Matlab, R, Fortran, Python, C, Perl ... the list is long and varied.  _Then why create a new language?_ \n",
    "\n",
    "[According to Julia creators,](http://julialang.org/blog/2012/02/why-we-created-julia/) \"We love all of these languages; they are wonderful and powerful. For the work we do — scientific computing, machine learning, data mining, large-scale linear algebra, distributed and parallel computing — each [of these programming languages] is perfect for some aspects of the work and terrible for others. Each one is a trade-off.\"  In short, Julia is the next generation programming language trying to combine the best of many aspects of other computing languages.\n",
    "\n",
    "The first version of Julia was released in 2012 and the Julia community is ever-growing!\n",
    "\n",
    "Julia is free to use and available in your web browser!"
   ]
  },
  {
   "cell_type": "markdown",
   "metadata": {},
   "source": [
    "## Julia is a calculator\n",
    "\n",
    "Click your cursor into the box below, then to execute the box EITHER\n",
    "- press the triangular \"play\" button in the menu above\n",
    "\n",
    "or\n",
    "- press CONTROL-ENTER or SHIFT-ENTER on your keyboard\n",
    "\n",
    "As you can see, Julia recognizes common functions such as trig functions, logarithms, and square root functions as well as familiar constants such as pi or e.  In Julia log(e) = 1 so this indicates that log in Julia represents the natural logarithm (a.k.a log-base-e).\n",
    "\n",
    "#### TRY taking the log or sqrt of a negative to see error message.   Watch out for these messages since they indicate you're doing something wrong."
   ]
  },
  {
   "cell_type": "code",
   "execution_count": null,
   "metadata": {
    "collapsed": false,
    "scrolled": true
   },
   "outputs": [],
   "source": [
    "log(e) + 2*sin(pi/2) + sqrt(9)"
   ]
  },
  {
   "cell_type": "markdown",
   "metadata": {},
   "source": [
    "## Julia can store variable values, and perform operations on variables\n",
    "\n",
    "Execute the following box.  \n",
    "\n",
    "Julia can accept many lines of commands in a single box, but only the **last** command is displayed out on the console.\n",
    "\n",
    "#### TRY inserting display(a) and display(b) to see more output displayed"
   ]
  },
  {
   "cell_type": "code",
   "execution_count": null,
   "metadata": {
    "collapsed": false
   },
   "outputs": [],
   "source": [
    "a = 1\n",
    "b = 2\n",
    "a + b"
   ]
  },
  {
   "cell_type": "markdown",
   "metadata": {},
   "source": [
    "## Variable values are saved and you can reuse them later in the file\n",
    "\n",
    "Execute the following box.  \n",
    "\n",
    "Variables established above are still accessible.  **If you close this notebook file and then reopen this notebook file then your variables will be GONE.**  In order to reestablish the variable values you would need to RE-EXECUTE each box after you reopen the notebook."
   ]
  },
  {
   "cell_type": "code",
   "execution_count": null,
   "metadata": {
    "collapsed": false,
    "scrolled": false
   },
   "outputs": [],
   "source": [
    "c = a^2 + b^2"
   ]
  },
  {
   "cell_type": "markdown",
   "metadata": {},
   "source": [
    "## Vectors are important\n",
    "\n",
    "Execute the following boxes to see how they work.\n",
    "\n",
    "- The command [startvalue:stepvalue:endvalue;] defines a column vector starting at \"start value\", increasing by the \"step value\", until it ends less or equal to the \"end value\".  Square brackets, colons, and the semicolon are CRUCIAL!\n",
    "\n",
    "- If v is a vector then \n",
    "\n",
    " - v.' is the transpose of v.\n",
    "\n",
    " - v .+ 3 adds three to EACH component of the vector v.\n",
    " \n",
    " - v.^2 squares EACH component of the vector v.\n",
    " \n",
    " - 1./v takes the reciprocal of EACH component of the vector v.\n",
    " \n",
    " - sin(v) takes the sine of EACH component of the vector v.\n",
    " \n",
    "#### TRY ommitting the step value to see that it will default to 1."
   ]
  },
  {
   "cell_type": "code",
   "execution_count": null,
   "metadata": {
    "collapsed": false
   },
   "outputs": [],
   "source": [
    "v = [1:0.2:4;]"
   ]
  },
  {
   "cell_type": "code",
   "execution_count": null,
   "metadata": {
    "collapsed": false
   },
   "outputs": [],
   "source": [
    "w = v.'"
   ]
  },
  {
   "cell_type": "code",
   "execution_count": null,
   "metadata": {
    "collapsed": false
   },
   "outputs": [],
   "source": [
    "z = w .+ 3"
   ]
  },
  {
   "cell_type": "code",
   "execution_count": null,
   "metadata": {
    "collapsed": false
   },
   "outputs": [],
   "source": [
    "y = z.^2"
   ]
  },
  {
   "cell_type": "code",
   "execution_count": null,
   "metadata": {
    "collapsed": false
   },
   "outputs": [],
   "source": [
    "u = 1./y"
   ]
  },
  {
   "cell_type": "code",
   "execution_count": null,
   "metadata": {
    "collapsed": false
   },
   "outputs": [],
   "source": [
    "t = sin(u)"
   ]
  },
  {
   "cell_type": "markdown",
   "metadata": {},
   "source": [
    "## Installing packages\n",
    "\n",
    "The first time you EVER plot graphs on your JuliaBox account, you need to install the PyPlot package.  Execute the statement below just once.  **You should NOT have to do this ever again!  Be patient and wait until it's done.**"
   ]
  },
  {
   "cell_type": "code",
   "execution_count": null,
   "metadata": {
    "collapsed": false
   },
   "outputs": [],
   "source": [
    "Pkg.add(\"PyPlot\") # ONLY execute this once on your account\n",
    "Pkg.update()"
   ]
  },
  {
   "cell_type": "markdown",
   "metadata": {},
   "source": [
    "## using Packages\n",
    "\n",
    "**_Each time you open a notebook_, before you plot anything, you need to execute the following command.**  Execute it now."
   ]
  },
  {
   "cell_type": "code",
   "execution_count": null,
   "metadata": {
    "collapsed": false
   },
   "outputs": [],
   "source": [
    "# excecute this EVERY time you open a notebook before using plot or quiver\n",
    "using PyPlot "
   ]
  },
  {
   "cell_type": "markdown",
   "metadata": {},
   "source": [
    "## Plotting\n",
    "\n",
    "Plotting works by utilizing vectors.  Execute the following boxes to see how they work.  Read and understand each command and ask Prof. D'Ambroise any questions you have!\n",
    "\n",
    "If you want to write text notes next to the code, use the hashtag # symbol."
   ]
  },
  {
   "cell_type": "markdown",
   "metadata": {},
   "source": [
    "## A basic plot with labels\n",
    "\n",
    "#### TRY plotting the square root function (change the x-range and the title)"
   ]
  },
  {
   "cell_type": "code",
   "execution_count": null,
   "metadata": {
    "collapsed": false,
    "scrolled": true
   },
   "outputs": [],
   "source": [
    "x = [-2*pi:0.1:2*pi;] # a vector of x-values\n",
    "y = sin(x) # a vector of y-values\n",
    "plot(x,y) \n",
    "xlabel(\"this is the x-axis label\") # x label is optional\n",
    "ylabel(\"this is the y-axis label\") # y label is optional\n",
    "title(\"SINE FUNCTION\") # title is optional\n",
    "grid(\"on\") # by default the dotted grid lines are OFF"
   ]
  },
  {
   "cell_type": "markdown",
   "metadata": {},
   "source": [
    "## Plotting multiple functions together\n",
    "\n",
    "By default the first function is BLUE, the second function is GREEN, and the third function is RED.  \n",
    "\n",
    "#### TRY adding another plot to see what the fourth color is!"
   ]
  },
  {
   "cell_type": "code",
   "execution_count": null,
   "metadata": {
    "collapsed": false
   },
   "outputs": [],
   "source": [
    "y1 = 2*sin(x)\n",
    "y2 = cos(x) + 3\n",
    "y3 = x\n",
    "plot(x,y1)\n",
    "plot(x,y2)\n",
    "plot(x,y3)\n",
    "grid(\"on\") # the grid is off by default"
   ]
  },
  {
   "cell_type": "markdown",
   "metadata": {},
   "source": [
    "## Plotting multiple functions together & choosing color / style\n",
    "\n",
    "[For a complete list of available colors and styles click here to see documentation.](http://matplotlib.org/api/pyplot_api.html#matplotlib.pyplot.plot)\n",
    "\n",
    "#### TRY a different plot style using something from the link above."
   ]
  },
  {
   "cell_type": "code",
   "execution_count": null,
   "metadata": {
    "collapsed": false
   },
   "outputs": [],
   "source": [
    "plot(x,y1,\"r--\") # red dashes\n",
    "plot(x,y2,\"b.\") # blue dots\n",
    "plot(x,y3,\"g-\") # green solid line"
   ]
  },
  {
   "cell_type": "markdown",
   "metadata": {},
   "source": [
    "## Plot multiple functions using a for-loop\n",
    "\n",
    "Using a for-loop is handy in order to plot many different particular solutions to a differential equation.  Remember that each particular solution corresponds to a different C-value in the general solution.\n",
    "\n",
    "#### TRY using different C-values such as C = [-2,6;]\n",
    "#### TRY turning the grid on\n",
    "#### TRY the custom tick marks for the x-axis by removing the hashtags #"
   ]
  },
  {
   "cell_type": "code",
   "execution_count": null,
   "metadata": {
    "collapsed": false,
    "scrolled": true
   },
   "outputs": [],
   "source": [
    "x = [-2*pi:0.1:2*pi;]\n",
    "#figure()\n",
    "#ax = axes()\n",
    "for C = [-3:3;]\n",
    "    plot(x,sin(x .+ C))\n",
    "    #xticks([-2*pi,-pi,0,pi,2*pi])\n",
    "    #ax[:set_xticklabels]([L\"$-2\\pi$\",L\"-\\pi\",\"0\",L\"\\pi\",L\"2\\pi\"])\n",
    "end"
   ]
  },
  {
   "cell_type": "markdown",
   "metadata": {},
   "source": [
    "## Plotting a slope field (aka direction field or quiver plot)\n",
    "\n",
    "#### TRY plotting the direction field for dy/dx = sin(x + y)\n",
    "#### TRY removing the hashtags for the customized y-axis labels"
   ]
  },
  {
   "cell_type": "code",
   "execution_count": null,
   "metadata": {
    "collapsed": false
   },
   "outputs": [],
   "source": [
    "# x is a row vector and y is a column vector\n",
    "x = [-2*pi:0.5:2*pi;].'\n",
    "y = [-2*pi:0.5:2*pi;] \n",
    "\n",
    "# X and Y are two-dimensional grids of x and y values\n",
    "# display X and Y to understand them better\n",
    "X = repmat(x,length(x),1)\n",
    "Y = repmat(y,1,length(y))\n",
    "\n",
    "# a quiver plot is a slope field a.k.a. direction field\n",
    "#figure()\n",
    "#ax = axes()\n",
    "quiver(X,Y,ones(size(X)),sin(Y))\n",
    "#yticks([-2*pi,-pi,0,pi,2*pi])\n",
    "#ax[:set_yticklabels]([L\"$-2\\pi$\",L\"-\\pi\",\"0\",L\"\\pi\",L\"2\\pi\"])"
   ]
  },
  {
   "cell_type": "markdown",
   "metadata": {},
   "source": [
    "## Interactive plots (just for fun)"
   ]
  },
  {
   "cell_type": "code",
   "execution_count": null,
   "metadata": {
    "collapsed": false
   },
   "outputs": [],
   "source": [
    "# ONLY execute these lines once on your account\n",
    "Pkg.add(\"Interact\") \n",
    "Pkg.update()"
   ]
  },
  {
   "cell_type": "code",
   "execution_count": null,
   "metadata": {
    "collapsed": false
   },
   "outputs": [],
   "source": [
    "using Interact # excecute this EVERY time you open a notebook before using @manipulate\n",
    "\n",
    "f1 = figure()\n",
    "@manipulate for a=1:0.1:3, b=1:0.1:3; withfig(f1) do\n",
    "        plot(x, a*cos(x+b))\n",
    "    end\n",
    "end"
   ]
  }
 ],
 "metadata": {
  "kernelspec": {
   "display_name": "Julia 0.4.3",
   "language": "julia",
   "name": "julia-0.4"
  },
  "language_info": {
   "file_extension": ".jl",
   "mimetype": "application/julia",
   "name": "julia",
   "version": "0.4.3"
  }
 },
 "nbformat": 4,
 "nbformat_minor": 0
}
